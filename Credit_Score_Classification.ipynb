{
  "cells": [
    {
      "cell_type": "markdown",
      "metadata": {
        "id": "Bj9Fgn3STxEp"
      },
      "source": [
        "**Credit score Classification**"
      ]
    },
    {
      "cell_type": "code",
      "execution_count": null,
      "metadata": {
        "id": "z8OLa1LY2Plu"
      },
      "outputs": [],
      "source": [
        "from sklearn.preprocessing import LabelEncoder\n",
        "from sklearn.model_selection import train_test_split\n",
        "from sklearn.preprocessing import MinMaxScaler\n",
        "from sklearn.neighbors import KNeighborsClassifier\n",
        "from sklearn.svm import SVC\n",
        "from sklearn.naive_bayes import GaussianNB\n",
        "from sklearn.tree import DecisionTreeClassifier\n",
        "from sklearn.ensemble import RandomForestClassifier\n",
        "from sklearn.ensemble import AdaBoostClassifier\n",
        "from sklearn.metrics import accuracy_score,classification_report,ConfusionMatrixDisplay\n",
        "import matplotlib.pyplot as plt\n",
        "import seaborn as sns\n",
        "from sklearn.decomposition import PCA\n",
        "from sklearn.model_selection import GridSearchCV"
      ]
    },
    {
      "cell_type": "code",
      "execution_count": null,
      "metadata": {
        "id": "R2LJgLvA2l0N"
      },
      "outputs": [],
      "source": [
        "import pandas as pd\n",
        "df=pd.read_csv(\"/content/drive/MyDrive/Datasets/credit_score.csv\")\n",
        "df"
      ]
    },
    {
      "cell_type": "code",
      "execution_count": null,
      "metadata": {
        "id": "HMQgCs3dUazK"
      },
      "outputs": [],
      "source": [
        "df.columns"
      ]
    },
    {
      "cell_type": "code",
      "execution_count": null,
      "metadata": {
        "id": "ongEwfD82pRR"
      },
      "outputs": [],
      "source": [
        "df[\"Month\"].value_counts()"
      ]
    },
    {
      "cell_type": "code",
      "execution_count": null,
      "metadata": {
        "id": "okyf2vVacG9q"
      },
      "outputs": [],
      "source": [
        "df.isna().sum()"
      ]
    },
    {
      "cell_type": "code",
      "execution_count": null,
      "metadata": {
        "id": "BKl0nyc32tp7"
      },
      "outputs": [],
      "source": [
        "df.drop([\"Month\",\"ID\",\"Customer_ID\",\"Name\",\"SSN\"],axis=1,inplace=True)"
      ]
    },
    {
      "cell_type": "code",
      "execution_count": null,
      "metadata": {
        "id": "nyXE6a_C2xDe"
      },
      "outputs": [],
      "source": [
        "df.dtypes"
      ]
    },
    {
      "cell_type": "code",
      "execution_count": null,
      "metadata": {
        "id": "QLliq7DT22So"
      },
      "outputs": [],
      "source": [
        "le=LabelEncoder()\n",
        "features=[\"Occupation\",\"Type_of_Loan\",\"Credit_Mix\",\"Payment_of_Min_Amount\",\"Payment_Behaviour\",\"Credit_Score\"]\n",
        "for i in features:\n",
        "  df[i]=le.fit_transform(df[i])\n",
        "df"
      ]
    },
    {
      "cell_type": "code",
      "execution_count": null,
      "metadata": {
        "id": "kXlztSYT25ua"
      },
      "outputs": [],
      "source": [
        "X=df.iloc[:,:-1]\n",
        "X"
      ]
    },
    {
      "cell_type": "code",
      "execution_count": null,
      "metadata": {
        "id": "YmkoLgaO292g"
      },
      "outputs": [],
      "source": [
        "y=df.iloc[:,-1]\n",
        "y"
      ]
    },
    {
      "cell_type": "code",
      "execution_count": null,
      "metadata": {
        "id": "268l_abf3B8L"
      },
      "outputs": [],
      "source": [
        "\n",
        "scaler=MinMaxScaler()\n",
        "X_scaled=scaler.fit_transform(X)"
      ]
    },
    {
      "cell_type": "code",
      "execution_count": null,
      "metadata": {
        "id": "yYyvU2063F4d"
      },
      "outputs": [],
      "source": [
        "X_train,X_test,y_train,y_test=train_test_split(X_scaled,y,test_size=0.3,random_state=1)"
      ]
    },
    {
      "cell_type": "code",
      "execution_count": null,
      "metadata": {
        "id": "_UWwFaUN3KRg"
      },
      "outputs": [],
      "source": [
        "knn=KNeighborsClassifier()\n",
        "sv=SVC()\n",
        "nb=GaussianNB()\n",
        "dt=DecisionTreeClassifier()\n",
        "rf=RandomForestClassifier(random_state=1)\n",
        "ab=AdaBoostClassifier(random_state=1)"
      ]
    },
    {
      "cell_type": "code",
      "execution_count": null,
      "metadata": {
        "id": "zA80Mico3OZf"
      },
      "outputs": [],
      "source": [
        "accuracy_scores=[]\n",
        "models=[knn,sv,nb,dt,rf,ab]\n",
        "for i in models:\n",
        "  print(\"*****************\",i,\"**********************\")\n",
        "  i.fit(X_train,y_train)\n",
        "  y_pred=i.predict(X_test)\n",
        "  accuracy=(accuracy_score(y_test,y_pred))*100\n",
        "  accuracy_scores.append(accuracy)\n",
        "  print(classification_report(y_test,y_pred))"
      ]
    },
    {
      "cell_type": "code",
      "execution_count": null,
      "metadata": {
        "id": "ZFNH7c483R0j"
      },
      "outputs": [],
      "source": [
        "x=[\"knn\",\"sv\",\"nb\",\"dt\",\"rf\",\"ab\"]\n",
        "plt.bar(x,accuracy_scores)\n",
        "for i in range(len(x)):\n",
        "    plt.text(x[i], accuracy_scores[i], f'{accuracy_scores[i]:.2f}', ha='center', va='bottom')\n",
        "plt.xlabel(\"Algorithms\")\n",
        "plt.ylabel(\"Accuracy Scores\")\n",
        "plt.title(\"Accuracy Scores for Different Algorithms\")\n",
        "plt.plot()\n",
        "plt.show()"
      ]
    },
    {
      "cell_type": "markdown",
      "metadata": {
        "id": "bLLPbRvV3Vtn"
      },
      "source": [
        "**Feature selection using correlation**"
      ]
    },
    {
      "cell_type": "code",
      "execution_count": null,
      "metadata": {
        "id": "dcQXmWQH3Xa0"
      },
      "outputs": [],
      "source": [
        "df.corr().iloc[:,-1]"
      ]
    },
    {
      "cell_type": "code",
      "execution_count": null,
      "metadata": {
        "id": "j4vu-LItBAjG"
      },
      "outputs": [],
      "source": [
        "df.corr()"
      ]
    },
    {
      "cell_type": "code",
      "execution_count": null,
      "metadata": {
        "id": "KekwFe0IH5rp"
      },
      "outputs": [],
      "source": [
        "threshold = 0.05\n",
        "correlation_values = df.corr().abs()\n",
        "columns_to_drop = correlation_values[correlation_values['Credit_Score'] < threshold].index.tolist()\n",
        "df1= df.drop(columns=columns_to_drop)"
      ]
    },
    {
      "cell_type": "code",
      "execution_count": null,
      "metadata": {
        "id": "ryUyc-NwIJnj"
      },
      "outputs": [],
      "source": [
        "df1"
      ]
    },
    {
      "cell_type": "code",
      "execution_count": null,
      "metadata": {
        "id": "Yv3xD63PJrU9"
      },
      "outputs": [],
      "source": [
        "X=df1.iloc[:,:-1]\n",
        "X"
      ]
    },
    {
      "cell_type": "code",
      "execution_count": null,
      "metadata": {
        "id": "ze4fRAyhJx-z"
      },
      "outputs": [],
      "source": [
        "y=df1.iloc[:,-1]\n",
        "y"
      ]
    },
    {
      "cell_type": "code",
      "execution_count": null,
      "metadata": {
        "id": "ZuFLAIBfJ5PQ"
      },
      "outputs": [],
      "source": [
        "X1_scaled=scaler.fit_transform(X)\n",
        "X1_scaled"
      ]
    },
    {
      "cell_type": "code",
      "execution_count": null,
      "metadata": {
        "id": "4uutZV5YKB_w"
      },
      "outputs": [],
      "source": [
        "X1_train,X1_test,y1_train,y1_test=train_test_split(X1_scaled,y,test_size=0.3,random_state=1)"
      ]
    },
    {
      "cell_type": "code",
      "execution_count": null,
      "metadata": {
        "id": "7rhdFAkMKLza"
      },
      "outputs": [],
      "source": [
        "knn_co=KNeighborsClassifier()\n",
        "sv_co=SVC()\n",
        "nb_co=GaussianNB()\n",
        "dt_co=DecisionTreeClassifier()\n",
        "rf_co=RandomForestClassifier(random_state=1)\n",
        "ab_co=AdaBoostClassifier(random_state=1)"
      ]
    },
    {
      "cell_type": "code",
      "execution_count": null,
      "metadata": {
        "id": "NvYBqNLlKSae"
      },
      "outputs": [],
      "source": [
        "accuracy_scores_co=[]\n",
        "models_co=[knn_co,sv_co,nb_co,dt_co,rf_co,ab_co]\n",
        "for i in models_co:\n",
        "  # print(\"*****************\",i,\"**********************\")\n",
        "  i.fit(X1_train,y1_train)\n",
        "  y1_pred=i.predict(X1_test)\n",
        "  accuracy_co=(accuracy_score(y1_test,y1_pred))*100\n",
        "  accuracy_scores_co.append(accuracy_co)"
      ]
    },
    {
      "cell_type": "code",
      "execution_count": null,
      "metadata": {
        "id": "prudt9neKYuk"
      },
      "outputs": [],
      "source": [
        "x_co=[\"knn_co\",\"sv_co\",\"nb_co\",\"dt_co\",\"rf_co\",\"ab_co\"]\n",
        "plt.bar(x_co,accuracy_scores_co)\n",
        "for i in range(len(x_co)):\n",
        "    plt.text(x_co[i], accuracy_scores_co[i], f'{accuracy_scores_co[i]:.2f}', ha='center', va='bottom')\n",
        "plt.xlabel(\"Algorithms\")\n",
        "plt.ylabel(\"Accuracy Scores\")\n",
        "plt.title(\"Accuracy Scores for Different Algorithms with feature selection using correlation\")\n",
        "plt.plot()\n",
        "plt.show()"
      ]
    },
    {
      "cell_type": "markdown",
      "metadata": {
        "id": "k70U7venQJGw"
      },
      "source": [
        "**Oulier Handling**"
      ]
    },
    {
      "cell_type": "code",
      "execution_count": null,
      "metadata": {
        "id": "Y5K_6y9AQHh4"
      },
      "outputs": [],
      "source": [
        "numerical_features =X.columns\n",
        "for feature in numerical_features:\n",
        "    # plt.figure(figsize=(8, 4))\n",
        "    sns.boxplot(y=df[feature])\n",
        "    plt.title(f'Box Plot for {feature}')\n",
        "    plt.show()"
      ]
    },
    {
      "cell_type": "code",
      "execution_count": null,
      "metadata": {
        "id": "j4272GyLQiaw"
      },
      "outputs": [],
      "source": [
        "for i in numerical_features:\n",
        "  Q1 = df1[i].quantile(0.25)\n",
        "  Q3 = df1[i].quantile(0.75)\n",
        "  IQR = Q3 - Q1\n",
        "  lower_bound = Q1 - 1.5 * IQR\n",
        "  upper_bound = Q3 + 1.5 * IQR\n",
        "  df1 = df1.loc[(df1[i] >= lower_bound) & (df1[i] <= upper_bound)]"
      ]
    },
    {
      "cell_type": "code",
      "execution_count": null,
      "metadata": {
        "id": "vh7J_M5FQtTD"
      },
      "outputs": [],
      "source": [
        "df1"
      ]
    },
    {
      "cell_type": "code",
      "execution_count": null,
      "metadata": {
        "id": "fozpEpoylgiK"
      },
      "outputs": [],
      "source": [
        "df.shape"
      ]
    },
    {
      "cell_type": "code",
      "execution_count": null,
      "metadata": {
        "id": "7haRgaJrRAtD"
      },
      "outputs": [],
      "source": [
        "X=df1.iloc[:,:-1]\n",
        "X"
      ]
    },
    {
      "cell_type": "code",
      "execution_count": null,
      "metadata": {
        "id": "beogtlkWRN7V"
      },
      "outputs": [],
      "source": [
        "y=df1.iloc[:,-1]\n",
        "y"
      ]
    },
    {
      "cell_type": "code",
      "execution_count": null,
      "metadata": {
        "id": "e3mmO5HIRX6D"
      },
      "outputs": [],
      "source": [
        "scaler_no_outliers=MinMaxScaler()\n",
        "X_scaled_no_outliers=scaler_no_outliers.fit_transform(X)"
      ]
    },
    {
      "cell_type": "code",
      "execution_count": null,
      "metadata": {
        "id": "aznjdpDIRhID"
      },
      "outputs": [],
      "source": [
        "X_train_no_outliers,X_test_no_outliers,y_train_no_outliers,y_test_no_outliers=train_test_split(X_scaled_no_outliers,y,test_size=0.3,random_state=1)"
      ]
    },
    {
      "cell_type": "code",
      "execution_count": null,
      "metadata": {
        "id": "n-fZN16NRo-E"
      },
      "outputs": [],
      "source": [
        "knn_no=KNeighborsClassifier()\n",
        "sv_no=SVC()\n",
        "nb_no=GaussianNB()\n",
        "dt_no=DecisionTreeClassifier()\n",
        "rf_no=RandomForestClassifier(random_state=1)\n",
        "ab_no=AdaBoostClassifier(random_state=1)"
      ]
    },
    {
      "cell_type": "code",
      "execution_count": null,
      "metadata": {
        "id": "8iSz-1AbRvaS"
      },
      "outputs": [],
      "source": [
        "accuracy_scores_no_outliers=[]\n",
        "models_no_outliers=[knn_no,sv_no,nb_no,dt_no,rf_no,ab_no]\n",
        "for i in models_no_outliers:\n",
        "  # print(\"*****************\",i,\"**********************\")\n",
        "  i.fit(X_train_no_outliers,y_train_no_outliers)\n",
        "  y_pred_no_outliers=i.predict(X_test_no_outliers)\n",
        "  accuracy_no_outliers=(accuracy_score(y_test_no_outliers,y_pred_no_outliers))*100\n",
        "  accuracy_scores_no_outliers.append(accuracy_no_outliers)\n",
        "  # print(classification_report(y_test,y_pred))"
      ]
    },
    {
      "cell_type": "code",
      "execution_count": null,
      "metadata": {
        "id": "Wuf6uKXuR2wh"
      },
      "outputs": [],
      "source": [
        "x_no_outliers=[\"knns\",\"sv\",\"nb\",\"dt\",\"rf\",\"ab\"]\n",
        "plt.bar(x_no_outliers,accuracy_scores_no_outliers)\n",
        "for i in range(len(x_no_outliers)):\n",
        "    plt.text(x_no_outliers[i], accuracy_scores_no_outliers[i], f'{accuracy_scores_no_outliers[i]:.2f}', ha='center', va='bottom')\n",
        "plt.xlabel(\"Algorithms\")\n",
        "plt.ylabel(\"Accuracy Scores\")\n",
        "plt.title(\"Accuracy Scores for Different Algorithms after outlier removal\")\n",
        "plt.plot()\n",
        "plt.show()"
      ]
    },
    {
      "cell_type": "markdown",
      "metadata": {
        "id": "UtS-sJGtKv8k"
      },
      "source": [
        "**Checking imbalanced dataset**\""
      ]
    },
    {
      "cell_type": "code",
      "execution_count": null,
      "metadata": {
        "id": "MZ8tHc6-KxMf"
      },
      "outputs": [],
      "source": [
        "df[\"Credit_Score\"].value_counts()"
      ]
    },
    {
      "cell_type": "code",
      "execution_count": null,
      "metadata": {
        "id": "uzvs53eGLCMY"
      },
      "outputs": [],
      "source": [
        "sns.countplot(x=\"Credit_Score\",data=df)"
      ]
    },
    {
      "cell_type": "markdown",
      "metadata": {
        "id": "HHupm7y4LIfp"
      },
      "source": [
        "**Over Sampling**"
      ]
    },
    {
      "cell_type": "code",
      "execution_count": null,
      "metadata": {
        "id": "ChRGSI9iLKDE"
      },
      "outputs": [],
      "source": [
        "from imblearn.over_sampling import SMOTE\n",
        "oversampler=SMOTE(random_state=1)\n",
        "X_os,y_os=oversampler.fit_resample(X,y)"
      ]
    },
    {
      "cell_type": "code",
      "execution_count": null,
      "metadata": {
        "id": "f_sWyUT9LXA1"
      },
      "outputs": [],
      "source": [
        "X_train_os,X_test_os,y_train_os,y_test_os=train_test_split(X_os,y_os,test_size=0.3,random_state=1)"
      ]
    },
    {
      "cell_type": "code",
      "execution_count": null,
      "metadata": {
        "id": "3UCaw6cMLboo"
      },
      "outputs": [],
      "source": [
        "X_train_os=scaler.fit_transform(X_train_os)\n",
        "X_test_os=scaler.transform(X_test_os)"
      ]
    },
    {
      "cell_type": "code",
      "execution_count": null,
      "metadata": {
        "id": "PDG9Sp-kLfw5"
      },
      "outputs": [],
      "source": [
        "knn_os=KNeighborsClassifier()\n",
        "sv_os=SVC()\n",
        "nb_os=GaussianNB()\n",
        "dt_os=DecisionTreeClassifier()\n",
        "rf_os=RandomForestClassifier(random_state=1)\n",
        "ab_os=AdaBoostClassifier(random_state=1)"
      ]
    },
    {
      "cell_type": "code",
      "execution_count": null,
      "metadata": {
        "id": "Y_P9egsaLkal"
      },
      "outputs": [],
      "source": [
        "accuracy_scores_os=[]\n",
        "models=[knn_os,sv_os,nb_os,dt_os,rf_os,ab_os]\n",
        "for i in models:\n",
        "  print(\"*****************\",i,\"**********************\")\n",
        "  i.fit(X_train_os,y_train_os)\n",
        "  y_pred_os=i.predict(X_test_os)\n",
        "  accuracy_os=(accuracy_score(y_test_os,y_pred_os))*100\n",
        "  accuracy_scores_os.append(accuracy_os)\n",
        "  print(classification_report(y_test_os,y_pred_os))"
      ]
    },
    {
      "cell_type": "code",
      "execution_count": null,
      "metadata": {
        "id": "stonQu8vLq7W"
      },
      "outputs": [],
      "source": [
        "x_os=[\"knn_os\",\"sv_os\",\"nb_os\",\"dt_os\",\"rf_os\",\"ab_os\"]\n",
        "plt.bar(x_os,accuracy_scores_os)\n",
        "for i in range(len(x_os)):\n",
        "    plt.text(x_os[i], accuracy_scores_os[i], f'{accuracy_scores_os[i]:.2f}', ha='center', va='bottom')\n",
        "plt.xlabel(\"Algorithms\")\n",
        "plt.ylabel(\"Accuracy Scores\")\n",
        "plt.title(\"Accuracy Scores for Different Algorithms with Over Sampling\")\n",
        "plt.plot()\n",
        "plt.show()"
      ]
    },
    {
      "cell_type": "markdown",
      "metadata": {
        "id": "kCrJH9MoL3BP"
      },
      "source": [
        "**Under Sampling**"
      ]
    },
    {
      "cell_type": "code",
      "execution_count": null,
      "metadata": {
        "id": "SRYMZhK4Lzw7"
      },
      "outputs": [],
      "source": [
        "from imblearn.under_sampling import RandomUnderSampler\n",
        "undersampler=RandomUnderSampler(random_state=1)\n",
        "X_us,y_us=undersampler.fit_resample(X,y)\n"
      ]
    },
    {
      "cell_type": "code",
      "execution_count": null,
      "metadata": {
        "id": "hR-31o6aMCFK"
      },
      "outputs": [],
      "source": [
        "X_train_us,X_test_us,y_train_us,y_test_us=train_test_split(X_us,y_us,test_size=0.3,random_state=1)"
      ]
    },
    {
      "cell_type": "code",
      "execution_count": null,
      "metadata": {
        "id": "7bFA0Yw5MzOC"
      },
      "outputs": [],
      "source": [
        "X_train_us=scaler.fit_transform(X_train_us)\n",
        "X_test_us=scaler.transform(X_test_us)"
      ]
    },
    {
      "cell_type": "code",
      "execution_count": null,
      "metadata": {
        "id": "ezeg5hoZM349"
      },
      "outputs": [],
      "source": [
        "knn_us=KNeighborsClassifier()\n",
        "sv_us=SVC()\n",
        "nb_us=GaussianNB()\n",
        "dt_us=DecisionTreeClassifier()\n",
        "rf_us=RandomForestClassifier(random_state=1)\n",
        "ab_us=AdaBoostClassifier(random_state=1)"
      ]
    },
    {
      "cell_type": "code",
      "execution_count": null,
      "metadata": {
        "id": "i8mC_pv2M8To"
      },
      "outputs": [],
      "source": [
        "accuracy_scores_us=[]\n",
        "models=[knn_us,sv_us,nb_us,dt_us,rf_us,ab_us]\n",
        "for i in models:\n",
        "  # print(\"*****************\",i,\"**********************\")\n",
        "  i.fit(X_train_us,y_train_us)\n",
        "  y_pred_us=i.predict(X_test_us)\n",
        "  accuracy_us=(accuracy_score(y_test_us,y_pred_us))*100\n",
        "  accuracy_scores_us.append(accuracy_us)"
      ]
    },
    {
      "cell_type": "code",
      "execution_count": null,
      "metadata": {
        "id": "ECozykBRNA1C"
      },
      "outputs": [],
      "source": [
        "x_us=[\"knn_us\",\"sv_us\",\"nb_us\",\"dt_us\",\"rf_us\",\"ab_us\"]\n",
        "plt.bar(x_us,accuracy_scores_us)\n",
        "for i in range(len(x_us)):\n",
        "    plt.text(x_us[i], accuracy_scores_us[i], f'{accuracy_scores_us[i]:.2f}', ha='center', va='bottom')\n",
        "plt.xlabel(\"Algorithms\")\n",
        "plt.ylabel(\"Accuracy Scores\")\n",
        "plt.title(\"Accuracy Scores for Different Algorithms with Under Sampling\")\n",
        "plt.plot()\n",
        "plt.show()"
      ]
    },
    {
      "cell_type": "markdown",
      "metadata": {
        "id": "wzVDAsk_iReW"
      },
      "source": [
        "**The Random Forest Model, coupled with oversampling, exhibits high accuracy(85%), precision, recall, and F1 score, making it a suitable choice for predictive purposes.**"
      ]
    },
    {
      "cell_type": "code",
      "execution_count": null,
      "metadata": {
        "id": "4AyCOHxuSqa7"
      },
      "outputs": [],
      "source": [
        "import joblib"
      ]
    },
    {
      "cell_type": "code",
      "execution_count": null,
      "metadata": {
        "id": "2iCIokFeS1QN"
      },
      "outputs": [],
      "source": [
        "filename=\"model.pkl\""
      ]
    },
    {
      "cell_type": "code",
      "execution_count": null,
      "metadata": {
        "id": "_hsChGrsS4vX"
      },
      "outputs": [],
      "source": [
        "joblib.dump(rf_os,open(filename,\"wb\"))\n",
        "joblib.dump(scaler,open(\"mscaler.pkl\",\"wb\"))"
      ]
    },
    {
      "cell_type": "code",
      "execution_count": null,
      "metadata": {
        "id": "4yHqk-eLS9Ty"
      },
      "outputs": [],
      "source": [
        "!pip install streamlit"
      ]
    },
    {
      "cell_type": "code",
      "execution_count": null,
      "metadata": {
        "id": "oSpeyyMCTAIn"
      },
      "outputs": [],
      "source": [
        "# !wget -q -O - ipv4.icanhazip.com"
      ]
    },
    {
      "cell_type": "code",
      "execution_count": null,
      "metadata": {
        "colab": {
          "base_uri": "https://localhost:8080/"
        },
        "id": "1AJGSoPKS4aY",
        "outputId": "23cb547c-d37c-4a49-dc35-95a5efd4efc8"
      },
      "outputs": [
        {
          "metadata": {
            "tags": null
          },
          "name": "stdout",
          "output_type": "stream",
          "text": [
            "/bin/bash: line 1: streamlit: command not found\n",
            "\u001b[K\u001b[?25hnpx: installed 22 in 4.151s\n",
            "your url is: https://ninety-pens-appear.loca.lt\n"
          ]
        }
      ],
      "source": [
        "# ! streamlit run app.py & npx localtunnel --port 8501"
      ]
    }
  ],
  "metadata": {
    "colab": {
      "provenance": []
    },
    "kernelspec": {
      "display_name": "Python 3",
      "name": "python3"
    },
    "language_info": {
      "name": "python"
    }
  },
  "nbformat": 4,
  "nbformat_minor": 0
}